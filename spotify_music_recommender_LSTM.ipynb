{
 "cells": [
  {
   "cell_type": "markdown",
   "metadata": {},
   "source": [
    "Relevant imports and initialization code."
   ]
  },
  {
   "cell_type": "code",
   "execution_count": 19,
   "metadata": {},
   "outputs": [],
   "source": [
    "import pandas as pd\n",
    "import numpy as np\n",
    "from tensorflow import keras\n",
    "from keras.preprocessing.text import Tokenizer\n",
    "from keras.preprocessing.sequence import pad_sequences\n",
    "import spotipy\n",
    "from spotipy.oauth2 import SpotifyClientCredentials\n",
    "\n",
    "seed = 25\n",
    "np.random.seed(seed)\n",
    "auth_manager = SpotifyClientCredentials(client_id='5e87783324eb47cba39f43f39e374c71',client_secret='68427108059946e9abfa226df5780371')\n",
    "sp = spotipy.Spotify(auth_manager=auth_manager)"
   ]
  },
  {
   "cell_type": "code",
   "execution_count": 22,
   "metadata": {},
   "outputs": [
    {
     "name": "stdout",
     "output_type": "stream",
     "text": [
      "63997\n"
     ]
    }
   ],
   "source": [
    "def encode_data(data, padding_length, should_lowercase = True):\n",
    "    t = Tokenizer(lower = should_lowercase)\n",
    "    t.fit_on_texts(data)\n",
    "    vocab_size = len(t.word_index) + 1\n",
    "    # integer encode the reviews.\n",
    "    encoded_playlists = t.texts_to_sequences(data)\n",
    "    # pad reviews to a max length of 150 words\n",
    "    padded_data = pad_sequences(encoded_playlists, maxlen=padding_length, padding='post')\n",
    "    return t, padded_data, vocab_size\n",
    "\n",
    "def generator(data_points):\n",
    "    for data in data_points:\n",
    "        yield keras.utils.to_categorical(data - 1, num_classes=y_vocab_size)\n",
    "\n",
    "df = pd.read_json('./datasets/challenge_set.json')\n",
    "playlist_series = df['playlists']\n",
    "\n",
    "X = []\n",
    "Y = []\n",
    "\n",
    "for item in playlist_series:\n",
    "    if 'name' in item:\n",
    "        playlist_name = item['name'].strip()\n",
    "\n",
    "        if (len(item['tracks']) > 0):\n",
    "            for track in item['tracks']:\n",
    "                X.append(playlist_name)\n",
    "                Y.append(track['track_uri'].split(':')[2])\n",
    "\n",
    "x_word_length = 10\n",
    "x_tokenizer, X, x_vocab_size = encode_data(X, x_word_length)\n",
    "y_tokenizer, Y, y_vocab_size = encode_data(Y, 1, should_lowercase = False)\n",
    "\n",
    "Y = Y.flatten()\n",
    "print(y_vocab_size)\n",
    "# Y = generator(Y)\n",
    "\n"
   ]
  },
  {
   "cell_type": "code",
   "execution_count": 5,
   "metadata": {},
   "outputs": [],
   "source": [
    "def build_and_compile_model():\n",
    "    model = keras.Sequential([\n",
    "      keras.layers.Embedding(x_vocab_size, 16, input_length=x_word_length),\n",
    "      keras.layers.Bidirectional(keras.layers.LSTM(16, return_sequences=True)),\n",
    "      keras.layers.Bidirectional(keras.layers.LSTM(16)),\n",
    "      #keras.layers.Dense(16,activation='relu'),\n",
    "      keras.layers.Dense(y_vocab_size, activation='softmax')\n",
    "    ])\n",
    "    optimizer = keras.optimizers.Adam(learning_rate=0.01)\n",
    "    model.compile(loss='sparse_categorical_crossentropy', optimizer=optimizer, metrics=['accuracy'])\n",
    "    return model"
   ]
  },
  {
   "cell_type": "code",
   "execution_count": 6,
   "metadata": {},
   "outputs": [
    {
     "name": "stdout",
     "output_type": "stream",
     "text": [
      "Model: \"sequential_1\"\n",
      "_________________________________________________________________\n",
      " Layer (type)                Output Shape              Param #   \n",
      "=================================================================\n",
      " embedding_1 (Embedding)     (None, 10, 16)            35680     \n",
      "                                                                 \n",
      " bidirectional_2 (Bidirecti  (None, 10, 32)            4224      \n",
      " onal)                                                           \n",
      "                                                                 \n",
      " bidirectional_3 (Bidirecti  (None, 32)                6272      \n",
      " onal)                                                           \n",
      "                                                                 \n",
      " dense_1 (Dense)             (None, 63997)             2111901   \n",
      "                                                                 \n",
      "=================================================================\n",
      "Total params: 2158077 (8.23 MB)\n",
      "Trainable params: 2158077 (8.23 MB)\n",
      "Non-trainable params: 0 (0.00 Byte)\n",
      "_________________________________________________________________\n",
      "Epoch 1/10\n",
      "43/43 [==============================] - 92s 2s/step - loss: 10.5285 - accuracy: 6.9079e-04 - val_loss: 10.3268 - val_accuracy: 6.9549e-04\n",
      "Epoch 2/10\n",
      "43/43 [==============================] - 87s 2s/step - loss: 10.0125 - accuracy: 7.5658e-04 - val_loss: 10.3610 - val_accuracy: 6.5789e-04\n",
      "Epoch 3/10\n",
      "43/43 [==============================] - 88s 2s/step - loss: 9.9098 - accuracy: 9.1165e-04 - val_loss: 10.3946 - val_accuracy: 3.9474e-04\n",
      "Epoch 4/10\n",
      "43/43 [==============================] - 88s 2s/step - loss: 9.8180 - accuracy: 9.3985e-04 - val_loss: 10.4320 - val_accuracy: 9.2105e-04\n",
      "Epoch 5/10\n",
      "43/43 [==============================] - 88s 2s/step - loss: 9.7074 - accuracy: 0.0011 - val_loss: 10.4034 - val_accuracy: 0.0010\n",
      "Epoch 6/10\n",
      "43/43 [==============================] - 87s 2s/step - loss: 9.5916 - accuracy: 0.0014 - val_loss: 10.4205 - val_accuracy: 0.0010\n",
      "Epoch 7/10\n",
      "43/43 [==============================] - 88s 2s/step - loss: 9.4789 - accuracy: 0.0015 - val_loss: 10.4298 - val_accuracy: 0.0011\n",
      "Epoch 8/10\n",
      "43/43 [==============================] - 89s 2s/step - loss: 9.3851 - accuracy: 0.0016 - val_loss: 10.4284 - val_accuracy: 9.2105e-04\n",
      "Epoch 9/10\n",
      "43/43 [==============================] - 87s 2s/step - loss: 9.2979 - accuracy: 0.0017 - val_loss: 10.4440 - val_accuracy: 0.0010\n",
      "Epoch 10/10\n",
      "43/43 [==============================] - 87s 2s/step - loss: 9.2206 - accuracy: 0.0019 - val_loss: 10.4484 - val_accuracy: 0.0014\n"
     ]
    },
    {
     "data": {
      "text/plain": [
       "<keras.src.callbacks.History at 0x1c404bd6520>"
      ]
     },
     "execution_count": 6,
     "metadata": {},
     "output_type": "execute_result"
    }
   ],
   "source": [
    "\n",
    "model = build_and_compile_model()\n",
    "model.summary()\n",
    "\n",
    "model.fit(X, Y, epochs=10, batch_size=5000, validation_split=0.2)\n"
   ]
  },
  {
   "cell_type": "code",
   "execution_count": 100,
   "metadata": {},
   "outputs": [
    {
     "name": "stdout",
     "output_type": "stream",
     "text": [
      "{'country': 1, 'rock': 2, 'rap': 3, 'music': 4, 'good': 5, 'chill': 6, 'jams': 7, 'songs': 8, 'party': 9, 'summer': 10, 'my': 11, 'playlist': 12, 'throwback': 13, 'new': 14, 'workout': 15, 'throwbacks': 16, 'oldies': 17, 'the': 18, 'vibes': 19, 'old': 20, 'classic': 21, 'road': 22, 'car': 23, 'work': 24, 'hop': 25, 'hip': 26, 'trip': 27, 'alternative': 28, 'pop': 29, 'mix': 30, 'lit': 31, 'jamz': 32, '2017': 33, 'classics': 34, 'school': 35, 'tbt': 36, 'christmas': 37, '2016': 38, 'it': 39, '80s': 40, '90s': 41, 'best': 42, 'worship': 43, 'out': 44, 'all': 45, 'r': 46, 'love': 47, 'up': 48, 'stuff': 49, 'tunes': 50, 'everything': 51, 'random': 52, 'edm': 53, 'dance': 54, '2015': 55, 'b': 56, 'jam': 57, 'disney': 58, 'slow': 59, 'gym': 60, 'happy': 61, 'but': 62, 'back': 63, 'feels': 64, '17': 65, 'drive': 66, 'hits': 67, 'bangers': 68, 'goodies': 69, 'time': 70, 'get': 71, 'christian': 72, 'i': 73, 'indie': 74, 'wedding': 75, 'chillin': 76, 'hype': 77, 'alt': 78, '3': 79, 'roadtrip': 80, 'nostalgia': 81, 'run': 82, 'feel': 83, 'in': 84, 'pump': 85, 'top': 86, 'study': 87, 'me': 88, 'of': 89, 'to': 90, 'banda': 91, 'favorites': 92, 'beach': 93, \"80's\": 94, 'you': 95, 'jesus': 96, 'driving': 97, 'boat': 98, 'trap': 99, 'other': 100, 'spring': 101, '1': 102, \"90's\": 103, 'l': 104, 'and': 105, 'fun': 106, '❤️': 107, 'spanish': 108, 'favorite': 109, 'sleep': 110, '2': 111, '16': 112, 'down': 113, 'a': 114, 'throw': 115, 'relax': 116, 'just': 117, 'calm': 118, 'rides': 119, 'sing': 120, 'life': 121, 'broadway': 122, 'mine': 123, 'swag': 124, 'pregame': 125, 'vibe': 126, 'childhood': 127, 'coachella': 128, 'fall': 129, 'like': 130, 'mood': 131, 'k': 132, 'game': 133, 'cruisin': 134, 'fire': 135, 'listen': 136, 'bump': 137, \"'17\": 138, 'cruise': 139, 'for': 140, 'smooth': 141, 'winter': 142, 'day': 143, '2000s': 144, 'musicals': 145, 'girl': 146, '15': 147, 'turnt': 148, 'house': 149, 'dope': 150, 'on': 151, '2014': 152, 'idk': 153, 'middle': 154, 'fav': 155, 'punk': 156, 'this': 157, 'hiphop': 158, 'favs': 159, 'kpop': 160, 'shower': 161, 'running': 162, 'something': 163, 'darty': 164, 'mellow': 165, 'acl': 166, 'tb': 167, 'days': 168, 'go': 169, 'yes': 170, 'beats': 171, 'grad': 172, 'sweet': 173, 'o': 174, 'list': 175, 'main': 176, 'bruh': 177, 'way': 178, 'turn': 179, 'soft': 180, 'metal': 181, \"cruisin'\": 182, 'power': 183, 'daily': 184, 'c': 185, 'lolla': 186, 'college': 187, '10': 188, 'og': 189, 'bangerz': 190, 'la': 191, 'times': 192, 'guilty': 193, 'bus': 194, 'easy': 195, 'writing': 196, 'ever': 197, 'trappin': 198, 'vibin': 199, 'folk': 200, 'camp': 201, 'know': 202, 'vegas': 203, 'mom': 204, 'heat': 205, 'current': 206, 'soul': 207, 'yeah': 208, 'baby': 209, 'hard': 210, 'relaxing': 211, 'may': 212, 'january': 213, 'texas': 214, 'roll': 215, '🔥🔥🔥': 216, 'graduation': 217, 'dad': 218, 'take': 219, 'now': 220, 'ben': 221, '¯': 222, 'af': 223, 'goes': 224, 'lake': 225, 'week': 226, 'one': 227, 'bops': 228, 'ultimate': 229, 'sad': 230, 'skool': 231, \"trippin'\": 232, 'listening': 233, \"2000's\": 234, '2k17': 235, \"'16\": 236, 'only': 237, 'ready': 238, 'blah': 239, 't': 240, 'tracks': 241, 'n': 242, '0': 243, 'along': 244, \"it's\": 245, 'jammin': 246, 'hi': 247, 'h': 248, 'art': 249, 'thursday': 250, 'everyday': 251, 'faded': 252, '80': 253, 'xx': 254, 'oldie': 255, 'soundtracks': 256, 'else': 257, 'is': 258, 'snowboarding': 259, 'red': 260, 'soothing': 261, \"chillin'\": 262, 'break': 263, 'ride': 264, 'that': 265, 'dank': 266, 'pool': 267, '70s': 268, 'today': 269, 'summa': 270, 'gaming': 271, '🔥': 272, 'remix': 273, 'true': 274, 'prom': 275, '🤘🏽': 276, 'do': 277, 'cool': 278, 'cleaning': 279, 'gold': 280, 'san': 281, 'dubstep': 282, 'chi': 283, 'u': 284, 'breathe': 285, 'countryyy': 286, 'lush': 287, 'chillax': 288, 'eminem': 289, 'ratchet': 290, 'roots': 291, 'peachy': 292, 'premium': 293, 'background': 294, 'dj': 295, 'ay': 296, 'partypartyparty': 297, 'skrt': 298, 'han': 299, 'saved': 300, 'basketball': 301, 'timeless': 302, 'dom': 303, 'bass': 304, 'lmao': 305, 'butter': 306, 'tripping': 307, 'regg': 308, 'joey': 309, 'feelin': 310, 'pleasures': 311, 'september': 312, 'nice': 313, 'birthday': 314, 'golden': 315, '☀️': 316, 'homework': 317, 'drake': 318, 'liked': 319, 'yo': 320, 'morning': 321, 'july': 322, 'windows': 323, 'not': 324, 'world': 325, 'girls': 326, 'oh': 327, 'ski': 328, '2012': 329, 'clean': 330, 'your': 331, '2013': 332, '2k16': 333, 'august': 334, 'nashville': 335, 'e': 336, 'yeehaw': 337, 'hood': 338, 'early': 339, 'october': 340, 'vibez': 341, 'electronic': 342, 'musica': 343, 'praise': 344, 'let': 345, 'boom': 346, 'firefly': 347, 'southern': 348, 'aux': 349, 'wiz': 350, 'bonfire': 351, 'crowd': 352, 'pleasers': 353, 'man': 354, 'randoms': 355, 'twenty': 356, 'latino': 357, 'years': 358, \"70's\": 359, 'hanging': 360, 'stream': 361, 'xmas': 362, 'popular': 363, 'marathon': 364, 'people': 365, 'cardio': 366, 'bed': 367, 'summer16': 368, 'modern': 369, '✈️': 370, 'aye': 371, '❄️': 372, 'gang': 373, 'weekend': 374, 'jay': 375, 'wrap': 376, 'mixed': 377, 'j': 378, 'merry': 379, 'osl': 380, 'pre': 381, 'litty': 382, 'fresh': 383, 'class': 384, 'emo': 385, 'here': 386, 'bbq': 387, \"00's\": 388, 'hardcore': 389, 'high': 390, 'bday': 391, 'with': 392, 'faves': 393, 'mind': 394, 'currently': 395, 'hit': 396, 'twerk': 397, 'ツ': 398, 'sesh': 399, 'rn': 400, 'bike': 401, 'w': 402, 'kt': 403, 'slaps': 404, 'getting': 405, 'heavy': 406, 'scores': 407, '70': 408, '01': 409, '🎵🎶': 410, 'summer17': 411, 'boner': 412, 'goodie': 413, 'lets': 414, 'bop': 415, 'blaze': 416, 'emily': 417, 'super': 418, 'partyyy': 419, '18': 420, 'waves': 421, '🤠': 422, 'countryy': 423, 'andrew': 424, 'colorado': 425, 'singles': 426, 'huh': 427, 'peaceful': 428, 'throwbackk': 429, '✌️': 430, 'family': 431, 'basic': 432, 'amanda': 433, '22': 434, 'prahm': 435, 'heart': 436, 'dat': 437, 'vibesss': 438, '4u': 439, 'stoner': 440, '⚡️': 441, 'collection': 442, 'when': 443, 'west': 444, 'neww': 445, 'kanye': 446, 'year': 447, 'bells': 448, 'tropical': 449, 'ii': 450, 'backs': 451, 'reggeton': 452, 'sunny': 453, 'raw': 454, 'control': 455, 'nye': 456, 'luke': 457, 'hour': 458, 'we': 459, 'nathan': 460, 'stay': 461, 'beatz': 462, 'co': 463, 'post': 464, 'sex': 465, \"feelin'\": 466, '21': 467, 'beep': 468, 'april': 469, 'feb': 470, 'no': 471, 'sick': 472, 'mmmm': 473, 'memories': 474, 'exercise': 475, 'long': 476, 'groovy': 477, 'musical': 478, 'black': 479, 'discover': 480, 'food': 481, 'goldies': 482, 'tight': 483, 'mountain': 484, 'fast': 485, 'boi': 486, 'club': 487, 'general': 488, 'rude': 489, 'sixteen': 490, 'sammy': 491, '20': 492, 'dads': 493, 'cute': 494, 'serenity': 495, 'going': 496, 'again': 497, 'wwe': 498, 'rain': 499, 'studying': 500, 'roadtrippin': 501, 'justin': 502, 'want': 503, 'tears': 504, 'salsa': 505, 'rando': 506, 'memory': 507, 'lane': 508, '5': 509, 'goldie': 510, 'june': 511, 'right': 512, 'always': 513, 'y': 514, 'dinner': 515, 'yay': 516, 'blackout': 517, 'bag': 518, 'abc': 519, 'likes': 520, 'david': 521, '50': 522, 'or': 523, 'rad': 524, 'area': 525, 'nuevas': 526, 'allison': 527, \"beachin'\": 528, 'ava': 529, 'childish': 530, 'grind': 531, 'jingle': 532, 'chilll': 533, 'bubblegum': 534, 'spencer': 535, 'hike': 536, 'euphoria': 537, 'buzz': 538, 'halloween': 539, 'friday': 540, 'eh': 541, 'hot': 542, '00s': 543, '🇺🇸': 544, 'fml': 545, 'set': 546, '🤷🏼\\u200d♀️': 547, 'holiday': 548, 'fran': 549, 'great': 550, 'raggae': 551, 'tu': 552, 'trips': 553, 'after': 554, 'ky': 555, 'famous': 556, 'swole': 557, 'mm': 558, 'gg': 559, 'lovin': 560, 'nothing': 561, \"60's\": 562, 'lost': 563, 'outside': 564, 'lands': 565, 'lil': 566, 'yasss': 567, 'kk': 568, 'inspiration': 569, 'todo': 570, 'sound': 571, 'babe': 572, 'move': 573, 'español': 574, 'noah': 575, 'usa': 576, 'hamilton': 577, '💛💛💛': 578, 'hoes': 579, 'metric': 580, '90210': 581, \"matt's\": 582, 'netflix': 583, 'bar': 584, 'sober': 585, 'pch': 586, 'offline': 587, 'gezellig': 588, '🤷\\u200d♀️': 589, 'luau': 590, 'franz': 591, 'crank': 592, 'chloe': 593, 'ganja': 594, 'moody': 595, 'goodbye': 596, 'jo': 597, 'country2': 598, 'hooping': 599, 'mixer': 600, 'overflow': 601, 'wut': 602, 'chin': 603, \"dad's\": 604, 'throwbackthursday': 605, 'freshman': 606, 'energetic': 607, \"john's\": 608, 'nc': 609, 'doom': 610, 'favz': 611, 'yaas': 612, 'busted': 613, 'yessir': 614, 'kp': 615, 'junior': 616, 'anthems': 617, '26': 618, 'hashtag': 619, 'bad': 620, 'ass': 621, 'naptime': 622, 'emotions': 623, 'nati': 624, 'atl': 625, 'name': 626, 'miami': 627, 'rockish': 628, 'sunflower': 629, 'cookout': 630, 'genius': 631, 'fam': 632, 'escape': 633, 'amy': 634, 'exhale': 635, 'jada': 636, 'tanning': 637, 'disposition': 638, '23': 639, 'mmmmm': 640, 'ego': 641, 'christina': 642, 'ill': 643, 'monday': 644, '🤘🏾': 645, 'henry': 646, 'madison': 647, 'salon': 648, '💖💖💖': 649, 'tailgate': 650, 'litness': 651, 'lent': 652, 'elizabeth': 653, 'closer': 654, 'lovers': 655, 'ladies': 656, 'wanna': 657, '💃🏼💃🏼💃🏼': 658, 'mint': 659, 'litmas': 660, 'cw': 661, '💦💦💦': 662, 'alaska': 663, 'throwbackkkk': 664, 'ok': 665, 'melancholy': 666, 'yams': 667, 'tops': 668, '365': 669, \"mom's\": 670, 'journey': 671, \"kickin'\": 672, 'bumps': 673, 'labor': 674, \"lovin'\": 675, 'doors': 676, 'banana': 677, 'pancakes': 678, 'boston': 679, 'calling': 680, '✌🏼': 681, 'schwifty': 682, 'ai': 683, 'khalifa': 684, 'brad': 685, 'paisley': 686, 'butterflies': 687, 'painting': 688, 'pura': 689, 'eyy': 690, 'oregon': 691, 'gigi': 692, 'weights': 693, 'paradise': 694, 'sass': 695, 'bloop': 696, 'oc': 697, 'mello': 698, 'bull': 699, 'editions': 700, 'folds': 701, 'goodness': 702, '🙏🏼': 703, 'isaiah': 704, 'yah': 705, 'smoothie': 706, 'him': 707, 'amber': 708, 'highschool': 709, 'clasica': 710, 'dmb': 711, 'ambient': 712, 'weezy': 713, 'alternate': 714, 'sheets': 715, 'blue': 716, 'work2': 717, 'jeep': 718, 'motivación': 719, 'kiki': 720, 'patience': 721, 'mi': 722, 'vida': 723, 'denver': 724, \"will's\": 725, 'pie': 726, 'lily': 727, 'snap': 728, 'vibrations': 729, 'andy': 730, 'baladas': 731, 'greys': 732, 'anatomy': 733, 'casa': 734, 'norm': 735, 'nu': 736, 'smash': 737, 'coolin': 738, 'eels': 739, 'picks': 740, '😌😌': 741, 'boot': 742, 'paper': 743, 'planes': 744, 'indiepop': 745, 'carter': 746, 'fall16': 747, 'itunes': 748, 'regular': 749, 'above': 750, 'beyond': 751, 'holidaze': 752, 'nerd': 753, 'casual': 754, 'lax': 755, 'golf': 756, 'recent': 757, 'espanish': 758, 'getaway': 759, 'sophia': 760, '2000': 761, 'alternitive': 762, 'dog': 763, \"rock'n'roll\": 764, 'fave': 765, 'graham': 766, 'bub': 767, 'ingles': 768, 'jeremy': 769, 'charlie': 770, 'skinny': 771, 'mash': 772, 'desert': 773, 'island': 774, 'pv': 775, 'liam': 776, 'location': 777, 'ears': 778, 'rust': 779, 'nz': 780, 'rocking': 781, 'jonathan': 782, 'woke': 783, 'keith': 784, 'urban': 785, 'session': 786, 'rb': 787, 'carlos': 788, 'pleasure': 789, 'brianna': 790, '💯💯': 791, 'sf': 792, 'counting': 793, 'crows': 794, '💙💙': 795, 'forever': 796, 'hoop': 797, 'lucifer': 798, 'merica': 799, 'anniversary': 800, 'minnesota': 801, 'unknown': 802, 'mike': 803, '��': 804, 'francisco': 805, 'brendan': 806, 'flight': 807, 'badlands': 808, \"y'all\": 809, 'musik': 810, 'chillers': 811, 'ali': 812, 'oldy': 813, 'os': 814, 'daniela': 815, 'flames': 816, 'smile': 817, 'beat': 818, 'sarah': 819, 'part': 820, 'acid': 821, 'moods': 822, 'ptl': 823, 'surprise': 824, 'ty': 825, 'hiking': 826, 'heartstrings': 827, 'seniors': 828, 'thing': 829, 'sufjan': 830, 'stevens': 831, 'mr': 832, 'brightside': 833, 'rally': 834, 'luna': 835, 'x': 836, 'ayyyy': 837, 'heatwave': 838, 'drop': 839, '🌞': 840, 'moon': 841, '🚗🚗': 842, 'randos': 843, 'must': 844, 'sss': 845, 'sb2k17': 846, 'muzic': 847, 'psyched': 848, 'kinda': 849, 'jamzz': 850, 'three': 851, 'energy': 852, 'nocturnal': 853, 'bbb': 854, 'ballads': 855, 'place': 856, 'thomas': 857, '‼️‼️': 858, 'blend': 859, 'courtney': 860, 'madre': 861, 'obsessions': 862, 'hills': 863, 'free': 864, \"fallin'\": 865, 'harrison': 866, 'np': 867, 'tres': 868, 'safe': 869, 'fleek': 870, 'gurl': 871, 'explicit': 872, '123456789': 873, 'mozart': 874, 'bruce': 875, '☀️☀️☀️': 876, 'selfish': 877, 'worst': 878, '💎💎': 879, 'sloww': 880, 'chida': 881, 'fire🔥🔥': 882, \"that's\": 883, 'skewl': 884, 'saftb': 885, '💃🏻': 886, 'bean': 887, 'pumped': 888, 'd': 889, 'young': 890, 'yee': 891, '90': 892, 'march': 893, 'hippity': 894, 'coast': 895, 'boys': 896, 'coffee': 897, 'working': 898, 'rnb': 899, 'movies': 900, \"don't\": 901, 'camping': 902, '🔥🔥': 903, 'covers': 904, 'reggaeton': 905, 'play': 906, 'fetty': 907, 'wap': 908, 'dirt': 909, 'shop': 910, 'wake': 911, 'margaritaville': 912, 'carpool': 913, 'trippin': 914, 'funk': 915, 'summertime': 916, 'real': 917, 'reggueton': 918, 'daydream': 919, 'zach': 920, 'reggae': 921, 'wave': 922, 'lift': 923, 'older': 924, 'issa': 925, 'rainy': 926, 'acoustic': 927, 'upbeat': 928, 'things': 929, 'white': 930, 'feelings': 931, 'us': 932, 'california': 933, 'chris': 934, 'gospel': 935, 'special': 936, 'diva': 937, 'hoppity': 938, 'at': 939, 'misc': 940, 'fly': 941, 'bo': 942, 'will': 943, 'stone': 944, 'tunez': 945, 'rich': 946, 'side': 947, 'panty': 948, 'droppers': 949, '🎉🎉🎉': 950, 'dig': 951, 'panda': 952, 'discovered': 953, '00': 954, 'pew': 955, 'angst': 956, \"roadtrippin'\": 957, 'karaoke': 958, 'cha': 959, 'crap': 960, 'bluegrass': 961, '12': 962, 'holidays': 963, 'wub': 964, 'yeet': 965, 'lexi': 966, '11': 967, 'pilots': 968, \"can't\": 969, 'november': 970, 'home': 971, 'en': 972, 'age': 973, 'some': 974, 'jack': 975, 'fiesta': 976, 'sleepy': 977, 'v': 978, '2k': 979, 'myself': 980, 'newnew': 981, 'chillout': 982, 'singing': 983, 'electric': 984, 'elevated': 985, 'partyyyy': 986, 'reception': 987, 'simp': 988, 'loud': 989, 'loading': 990, 'sunday': 991, 'low': 992, 'kids': 993, \"i'm\": 994, 'yours': 995, '💪🏼': 996, 'mixtape': 997, 'yas': 998, 'boy': 999, 'beachy': 1000, 'ballin': 1001, 'thinking': 1002, 'elle': 1003, 'kings': 1004, 'lit��': 1005, 'annie': 1006, 'ha': 1007, 'by': 1008, 'jacks': 1009, 'from': 1010, 'weeknd': 1011, 'baseball': 1012, 'daddy': 1013, 'champagne': 1014, 'beast': 1015, '123': 1016, '🙌🏽': 1017, 'yup': 1018, 'taylor': 1019, 'breezy': 1020, 'hailey': 1021, 'corridos': 1022, 'kind': 1023, 'flow': 1024, 'chillstep': 1025, '4am': 1026, 'falling': 1027, 'ayeee': 1028, 'poop': 1029, 'laura': 1030, 'canada': 1031, 'cabin': 1032, 'partay': 1033, 'chilling': 1034, 'dec': 1035, 'awesome': 1036, 'funky': 1037, 'its': 1038, 'phase': 1039, 'eighties': 1040, 'money': 1041, 'blast': 1042, 'alyssa': 1043, 'haw': 1044, 'english': 1045, '4th': 1046, 'groovin': 1047, 'connor': 1048, 'never': 1049, 'gets': 1050, 'femme': 1051, 'techno': 1052, 'cp': 1053, 'city': 1054, 'feeling': 1055, 'maria': 1056, 'over': 1057, 'soundtrack': 1058, 'head': 1059, 'between': 1060, 'senior': 1061, 'sup': 1062, 'matthew': 1063, 'rat': 1064, \"groovin'\": 1065, 'hyped': 1066, 'those': 1067, 'michelle': 1068, 'bb': 1069, '–': 1070, 'deluxe': 1071, 'deep': 1072, 'vacation': 1073, 'yacht': 1074, 'playlist2': 1075, 'playlist1': 1076, 'church': 1077, 'josh': 1078, 'band': 1079, 'what': 1080, 'wish': 1081, 'were': 1082, 'sunshine': 1083, 'temp': 1084, 'espanol': 1085, 'february': 1086, 'girly': 1087, 'starbucks': 1088, 'wind': 1089, 'hope': 1090, 'bands': 1091, '28': 1092, 'honey': 1093, \"vibin'\": 1094, 'party��': 1095, 'sexy': 1096, 'mixx': 1097, 'vega': 1098, 'nostalgic': 1099, 'vibing': 1100, 'beautiful': 1101, 'drops': 1102, 'spin': 1103, 'piano': 1104, 'latina': 1105, 'uplifting': 1106, 'electro': 1107, 'gusta': 1108, 'moves': 1109, 'sam': 1110, 'chilllll': 1111, 'flavors': 1112, 'ghetto': 1113, 'film': 1114, 'peach': 1115, 'chillwave': 1116, 'trending': 1117, 'albums': 1118, 'cloud': 1119, '9': 1120, 'spoopy': 1121, 'da': 1122, 'past': 1123, \"throwin'\": 1124, 'end': 1125, '111': 1126, 'ayyy': 1127, 'beans': 1128, 'aidan': 1129, 'litty🔥': 1130, 'baller': 1131, 'different': 1132, 'kb': 1133, 'christmasssss': 1134, 'exodus': 1135, 'paul': 1136, 'caleb': 1137, 'aaa': 1138, 'tim': 1139, 'mcgraw': 1140, 'hmmm': 1141, \"'13\": 1142, 'partybus': 1143, '❤️❤️❤️': 1144, 'hick': 1145, \"50's\": 1146, 'unwind': 1147, 'ph': 1148, 'cafe': 1149, 'kareoke': 1150, 'sabor': 1151, '👌🏻': 1152, 'b2': 1153, 'jukebox': 1154, 'throwbackz': 1155, 'babies': 1156, 'lit🔥': 1157, 'zzzzz': 1158, 'tired': 1159, '😍😍😍': 1160, 'finds': 1161, 'tear': 1162, 'apart': 1163, 'kevin': 1164, 'gates': 1165, \"1980's\": 1166, 'mumford': 1167, 'sons': 1168, 'wilder': 1169, 'cesar': 1170, 'pearl': 1171, 'habibi': 1172, 'emma': 1173, 'izzy': 1174, 'cherry': 1175, 'housewarming': 1176, '🦄🦄🦄': 1177, 'starlight': 1178, 'camilla': 1179, '1990': 1180, 'nikki': 1181, 'lord': 1182, 'rings': 1183, 'lively': 1184, 'then': 1185, 'punta': 1186, 'cana': 1187, 'josie': 1188, 'autumn': 1189, 'lollapalooza': 1190, 'f': 1191, 'glee': 1192, 'jammies': 1193, 'ch': 1194, 'yet': 1195, 'fever': 1196, 'xanax': 1197, 'johnson': 1198, 'own': 1199, 'goat': 1200, 'lotr': 1201, 'chapter': 1202, 'sadness': 1203, '🤤🤤': 1204, 'cord': 1205, 'sleep😴': 1206, 'char': 1207, 'cold': 1208, 'banger': 1209, 'hhh': 1210, 'fourth': 1211, 'ded': 1212, 'wavy': 1213, 'dopeness': 1214, 'traphouse': 1215, 'smiles': 1216, 'kid': 1217, 'colin': 1218, 'downtempo': 1219, 'alter': 1220, 'rock🎸': 1221, 'moms': 1222, 'boda': 1223, 'manny': 1224, 'lust': 1225, 'photoshoot': 1226, 'mojo': 1227, 'catchy': 1228, 'yea': 1229, 'jas': 1230, 'karen': 1231, 'crying': 1232, '2005': 1233, 'ayy': 1234, 'runner': 1235, 'cause': 1236, 'wee': 1237, 'memorial': 1238, 'iconic': 1239, 'nick': 1240, 'johan': 1241, 'leggo': 1242, 'uh': 1243, 'pd': 1244, 'wonders': 1245, 's16': 1246, 'bm': 1247, 'weekly': 1248, 'jade': 1249, 'soundhound': 1250, 'emoji': 1251, 'date': 1252, 'cruzin': 1253, 'jenna': 1254, 'bobby': 1255, 'love❤️': 1256, 'monica': 1257, 'heartbeat': 1258, '🔥fire🔥': 1259, 'hmm': 1260, 'quiet': 1261, 'carride': 1262, 'tba': 1263, 'cristianas': 1264, 'reggie': 1265, 'hs': 1266, 'tom': 1267, 'rewind': 1268, '😎😎😎': 1269, 'summer🌞': 1270, 'harry': 1271, 'potter': 1272, 'meh': 1273, 'neil': 1274, 'riding': 1275, '🤑🤑': 1276, 'swim': 1277, 'cheer': 1278, 'nasheed': 1279, 'seven': 1280, 'drinkin': 1281, 'abby': 1282, 'muse': 1283, 'make': 1284, 'daniel': 1285, 'gothic': 1286, '♡♡♡': 1287, 'trail': 1288, 'tape': 1289, 'looney': 1290, 'speechless': 1291, 'ilike': 1292, 'jose': 1293, 'campfire': 1294, 'rave': 1295, 'adam': 1296, 'subway': 1297, 'chuck': 1298, 'bachata': 1299, 'accoustic': 1300, \"summer'16\": 1301, 'fire🔥': 1302, 'edgar': 1303, 'legit': 1304, 'universe': 1305, 'heidi': 1306, 'guitar': 1307, 'hero': 1308, 'chillz': 1309, 'sp': 1310, 'dee': 1311, 'because': 1312, 'lounge': 1313, '💪🏽': 1314, 'throwin': 1315, 'memes': 1316, 'jb': 1317, 'zen': 1318, 'liz': 1319, 'grindin': 1320, 'screamo': 1321, 'kaitlyn': 1322, 'pg': 1323, 'repeat': 1324, 'maui': 1325, 'jupiter': 1326, 'gavin': 1327, 'degraw': 1328, 'toni': 1329, 'katie': 1330, 'lalaland': 1331, 'next': 1332, 'par': 1333, 'howard': 1334, 'poperas': 1335, '💔💔': 1336, 'fifa': 1337, 'blood': 1338, 'comida': 1339, '✨✨✨': 1340, 'randomz': 1341, 'transfer': 1342, 'title': 1343, 'lovey': 1344, 'dovey': 1345, 'ey': 1346, 'nation': 1347, 'anything': 1348, 'beastmode': 1349, 'bit': 1350, 'cave': 1351, 'stressed': 1352, 'booster': 1353, 'others': 1354, 'disneyland': 1355, 'summerrrr': 1356, 'trappy': 1357, 'savage': 1358, 'richard': 1359, 'lauren': 1360, '1999': 1361, 'suck': 1362, 'turnip': 1363, 'cream': 1364, 'caviar': 1365, 'funeral': 1366, 'lowkey': 1367, 'hangin': 1368, 'sounds': 1369, 'toons': 1370, 'kristen': 1371, 'happiness': 1372, 'style': 1373, 'hoodrat': 1374, 'public': 1375, '🖕🏻': 1376, 'shut': 1377, 'bpm': 1378, 'otherside': 1379, 'quality': 1380, '🔥🔥🔥🔥': 1381, 'tasty': 1382, 'anthem': 1383, 'chicas': 1384, 'bill': 1385, 'melo': 1386, 'beloved': 1387, '24': 1388, '7': 1389, 'titty': 1390, 'number': 1391, 'straight': 1392, 'king': 1393, 'chili': 1394, 'peppers': 1395, 'meow': 1396, 'heal': 1397, 'swish': 1398, 'madrid': 1399, 'sn': 1400, 'psych': 1401, 'awsome': 1402, 'creative': 1403, 'korean': 1404, 'pt2': 1405, 'dan': 1406, 'tuna': 1407, 'italy': 1408, 'collaborative': 1409, 'miguel': 1410, 'ole': 1411, 'tuesday': 1412, 'reminisce': 1413, '💕💕💕': 1414, 'rapish': 1415, '🍍🍍🍍': 1416, 'remixes': 1417, 'stop': 1418, 'bachelorette': 1419, 'fatale': 1420, 'remind': 1421, 'gc': 1422, 'teenage': 1423, 'am': 1424, 'jj': 1425, '��������': 1426, 'favvs': 1427, 'wow': 1428, 'boating': 1429, 'sap': 1430, 'apple': 1431, 'cali': 1432, 'help': 1433, 'she': 1434, 'be': 1435, 'loved': 1436, 'strong': 1437, 'booze': 1438, 'ska': 1439, 'travel': 1440, 'penis': 1441, 'hehe': 1442, 'becky': 1443, 'aruba': 1444, 'london': 1445, 'chanel': 1446, 'awesomeness': 1447, 'madness': 1448, 'zone': 1449, 'hall': 1450, 'sxsw': 1451, 'gerard': 1452, 'jazz': 1453, 'better': 1454, 'sweat': 1455, 'soccer': 1456, 'cabo': 1457, 'hw': 1458, 'dylan': 1459, 'eclipse': 1460, 'rockin': 1461, '͡°': 1462, 'chillaxin': 1463, 'ish': 1464, '13': 1465, 'about': 1466, 'december': 1467, 'god': 1468, 'playa': 1469, 'fitness': 1470, 'christmas🎄': 1471, 'dancehall': 1472, 'epic': 1473, 'daze': 1474, 'wanderlust': 1475, 'classical': 1476, 'regueton': 1477, 'lakehouse': 1478, 'focus': 1479, 'ma': 1480, 'into': 1481, 'wild': 1482, 'bang': 1483, 'big': 1484, 'ugh': 1485, 'im': 1486, 'gabby': 1487, 'trash': 1488, 'lds': 1489, 'plane': 1490, 'sundays': 1491, '100': 1492, '🔥lit🔥': 1493, 'zzz': 1494, 'throwbax': 1495, 'cocktail': 1496, 'alex': 1497, 'groove': 1498, 'yoga': 1499, 'bath': 1500, 'spring17': 1501, 'goods': 1502, 'trance': 1503, 'bedtime': 1504, 'football': 1505, 'xo': 1506, 'remember': 1507, 'warm': 1508, 'freak': 1509, 'mmm': 1510, 'welcome': 1511, 'sprung': 1512, 'españa': 1513, 'cumbia': 1514, 'swing': 1515, \"let's\": 1516, 'skating': 1517, 'seattle': 1518, 'line': 1519, 'dances': 1520, 'stuffs': 1521, 'bliss': 1522, 'sway': 1523, 'magic': 1524, 'joy': 1525, 'lalala': 1526, 'ceremony': 1527, 'beachin': 1528, 'fix': 1529, 'introspective': 1530, 'dizzy': 1531, 'mindless': 1532, \"20's\": 1533, 'obg': 1534, 'league': 1535, 'sandra': 1536, 'prelude': 1537, 'leon': 1538, 'jewel': 1539, 'dna': 1540, 'squad': 1541, 'jules': 1542, 'z': 1543, 'gruperas': 1544, 'snoop': 1545, 'dogg': 1546, 'larissa': 1547, 'packing': 1548, 'et': 1549, 'motivation': 1550, 'mymusic': 1551, 'savasana': 1552, 'chilled': 1553, '🔥💯': 1554, 'cycle': 1555, 'meg': 1556, 'started': 1557, 'bottom': 1558, 'eddy': 1559, 'teenagers': 1560, 'restless': 1561, 'try': 1562, 'yeee': 1563, 'christmas🎅🏼': 1564, 'reflections': 1565, '⭐️': 1566, 'saucy': 1567, 'laidback': 1568, 'yassss': 1569, 'swerve': 1570, 'got': 1571, 'euphoric': 1572, 'peace': 1573, 'jane': 1574, 'gangsta': 1575, 'john': 1576, 'legend': 1577, 'haha': 1578, 'mode': 1579, 'need': 1580, 'angry': 1581, 'hello': 1582, 'collective': 1583, 'trolley': 1584, 'hoco': 1585, '1d': 1586, 'sexxx': 1587, 'mex': 1588, 'wowza': 1589, 'fob': 1590, 'weather': 1591, 'tempo': 1592, 'bachelor': 1593, 'jen': 1594, '👍🏻': 1595, 'absolute': 1596, 'icy': 1597, 'detective': 1598, 'shleep': 1599, 'vintage': 1600, '2007': 1601, 'roma': 1602, 'gooey': 1603, 'killin': 1604, 'anxiety': 1605, 'bbs': 1606, 'depression': 1607, 'jogging': 1608, 'away': 1609, 'space': 1610, 'cameron': 1611, 'youtube': 1612, 'trend': 1613, 'thousand': 1614, '͜ʖ': 1615, 'dunno': 1616, 'speed': 1617, 'sailing': 1618, 'shawty': 1619, 'paige': 1620, 'cigarette': 1621, 'daydreams': 1622, '2006': 1623, 'breakfast': 1624, 'chilllllllll': 1625, 'tfios': 1626, 'jimmy': 1627, \"1970's\": 1628, 'eduardo': 1629, 'slowjamz': 1630, 'uicideboy': 1631, 'partylist': 1632, '21st': 1633, 'moment': 1634, 'jpop': 1635, 'miles': 1636, 'fragile': 1637, 'dancing': 1638, 'virginia': 1639, 'hymns': 1640, 'give': 1641, 'smoke': 1642, 'hotline': 1643, 'bling': 1644, 'progress': 1645, 'training': 1646, 'gr': 1647, 'drug': 1648, 'vietnam': 1649, 'sucks': 1650, 'aurora': 1651, 'throwbackss': 1652, 'bonita': 1653, 'typical': 1654, 'so': 1655, 'yikes': 1656, 'ac': 1657, 'ab': 1658, 'kayla': 1659, 'first': 1660, 'newest': 1661, 'jock': 1662, 'thug': 1663, 'lyfe': 1664, 'seventeen': 1665, 'chicken': 1666, 'nuggets': 1667, 'patty': 1668, 'makin': 1669, 'counrty': 1670, 'rec': 1671, 'woah': 1672, 'geronimo': 1673, '69': 1674, 'sleepless': 1675, 'motivational': 1676, 'was': 1677, \"david's\": 1678, 'refresh': 1679, 'ya': 1680, 'volleyball': 1681, '1983': 1682, 'they': 1683, 'lindsay': 1684, 'deez': 1685, 'nuts': 1686, 'salty': 1687, 'vibey': 1688, 'solstice': 1689, 'mmxvii': 1690, 'tribute': 1691, 'diana': 1692, 'saturn': 1693, 'nicole': 1694, 'alexandra': 1695, \"oldie's\": 1696, 'rf': 1697, 'litttt': 1698, 'partytime': 1699, 'connie': 1700, '💀💀💀': 1701, 'ap': 1702, 'mob': 1703, 'deporte': 1704, 'layback': 1705, 'fusion': 1706, 'drunk': 1707, 'bowie': 1708, 'circles': 1709, 'badass': 1710, 'story': 1711, 'ymcmb': 1712, 'lifting': 1713, 'essentials': 1714, \"jake's\": 1715, 'bt': 1716, '60s': 1717, 'mountains': 1718, 'spotify': 1719, 'workit': 1720, 'creep': 1721, 'eletronic': 1722, 'tech': 1723, 'viejo': 1724, '🎤🎤': 1725, 'dreams': 1726, 'river': 1727, 'cry': 1728, 'tf': 1729, 'summaaa': 1730, 'p': 1731, 'half': 1732, 'grooves': 1733, 'a1': 1734, 'bailar': 1735, 'neosoul': 1736, 'm': 1737, 'velvet': 1738, 'recently': 1739, 'youth': 1740, 'depressing': 1741, 'future': 1742, 'lol': 1743, 'song': 1744, 'forward': 1745, 'chance': 1746, 'logic': 1747, 'clasic': 1748, 'stubborn': 1749, 'romanticas': 1750, 'everyone': 1751, 'violet': 1752, 'freestyle': 1753, 'lyrics': 1754, 'edgy': 1755, 'cowboy': 1756, 'alive': 1757, 'db': 1758, 'ohana': 1759, '💗💗💗': 1760, 'adventure': 1761, 'lifetime': 1762, 'ema': 1763, 'rl': 1764, 'chill��': 1765, 'depp': 1766, 'tgif': 1767, 'underrated': 1768, 'tranquility': 1769, 'milk': 1770, 'mushy': 1771, 'viejitas': 1772, 'bam': 1773, 'cc17': 1774, 'savannah': 1775, 'boolin': 1776, 'update': 1777, 'rastafari': 1778, 'clasicos': 1779, 'sigh': 1780, 'steady': 1781, 'hurt': 1782, 'lindsey': 1783, 'stirling': 1784, 'summer2k17': 1785, 'sleepyhead': 1786, 'sometimes': 1787, 'fm': 1788, 'simmer': 1789, 'slide': 1790, 'lizzie': 1791, 'obx': 1792, 'haus': 1793, 'kenzie': 1794, 'cam': 1795, 'beth': 1796, 'summer☀️': 1797, 'rap🔥': 1798, 'bach': 1799, 'bumpin': 1800, 'stephanie': 1801, 'shooting': 1802, 'stars': 1803, 'issues': 1804, 'elevator': 1805, 'bones': 1806, 'legendary': 1807, 'ctfo': 1808, 'drawing': 1809, 'flame': 1810, 'gott': 1811, 'key': 1812, \"pa'\": 1813, 'owl': 1814, 'water': 1815, 'diamonds': 1816, 'electrochill': 1817, 'kaleidoscope': 1818, 'prime': 1819, 'chillest': 1820, 'rocknroll': 1821, 'shades': 1822, 'randomness': 1823, 'megan': 1824, 'kdrama': 1825, 'littt': 1826, 'rotation': 1827, 'dreaming': 1828, 'al': 1829, 'five': 1830, 'finger': 1831, 'death': 1832, 'punch': 1833, 'sb': 1834, 'cod': 1835, 'littttt': 1836, 'these': 1837, 'ally': 1838, 'casey': 1839, 'anna': 1840, 'wo': 1841, 'uk': 1842, 'rocks': 1843, 'die': 1844, 'chelsea': 1845, 'kiddos': 1846, 'blake': 1847, 'shelton': 1848, 'eric': 1849, 'darkside': 1850, 'friendsgiving': 1851, 'oui': 1852, 'festival': 1853, 'contemp': 1854, 'numbers': 1855, 'noise': 1856, 'skrrt': 1857, 'bay': 1858, 'newish': 1859, 'pierce': 1860, 'veil': 1861, 'muzak': 1862, 'hybrid': 1863, 'hipster': 1864, 'setlist': 1865, \"michael's\": 1866, 'mix1': 1867, 'traffic': 1868, 'hidden': 1869, 'gems': 1870, 'sunrise': 1871, 'jackie': 1872, 'fu': 1873, 'twang': 1874, 'em': 1875, 'indi': 1876, 'bubbles': 1877, '24k': 1878, 'workin': 1879, 'vitamin': 1880, '❤❤': 1881, 'gerald': 1882, 'fit': 1883, 'yep': 1884, 'mhmm': 1885, 'pnd': 1886, 'kat': 1887, 'restart': 1888, 'clara': 1889, 'heartbroken': 1890, 'backyard': 1891, 'anthony': 1892, 'woo': 1893, '⚓️': 1894, 'tomorrow': 1895, 'fnaf': 1896, 'ball': 1897, 'uplift': 1898, 'grit': 1899, 'hoops': 1900, 'valentines': 1901, 'lili': 1902, 'turnup': 1903, 'beginnings': 1904, 'mhm': 1905, 'vale': 1906, 'aesthetic': 1907, 'weird': 1908, 'zz': 1909, 'step': 1910, 'grunge': 1911, '🤘🏻': 1912, 'memo': 1913, 'oof': 1914, 'luca': 1915, '1975': 1916, 'bumpkin': 1917, 'drives': 1918, 'dangerous': 1919, 'cs': 1920, 'rafael': 1921, 'matt': 1922, 'sleepytime': 1923, 'chiller': 1924, 'claudia': 1925, 'ppp': 1926, 'sin': 1927, 'prayer': 1928, 'sh': 1929, '🤙🏼': 1930, 'sprang': 1931, 'rolas': 1932, 'pain': 1933, 'dr': 1934, 'thoughts': 1935, 'vibezzz': 1936, 'ryan': 1937, 'yourself': 1938, 'wod': 1939, 'kms': 1940, 'rage': 1941, 'rock2': 1942, '420': 1943, 'inxs': 1944, 'rager': 1945, 'cancer': 1946, 'rawk': 1947, 'ed': 1948, 'sheeran': 1949, '÷': 1950, 'olive': 1951, 'basics': 1952, 'calle': 1953, 'summer14': 1954, 'hey': 1955, 'iceland': 1956, 'glory': 1957, 'ariel': 1958, 'destiny': 1959, 'jan': 1960, 'latin': 1961, 'feelz': 1962, 'powerful': 1963, 'calming': 1964, 'maddie': 1965, 'lullaby': 1966, 'guardians': 1967, 'galaxy': 1968, 'hannah': 1969, 'lacrosse': 1970, 'pissed': 1971, 'off': 1972, 'reggeaton': 1973, 'intensity': 1974, 'miss': 1975, 'body': 1976, 'meme': 1977, 'nap': 1978, 'vampire': 1979, 'twerkout': 1980, 'comedy': 1981, 'cover': 1982, 'hozier': 1983, '😴😴': 1984, 'cars': 1985, 'pep': 1986, '❤️💛💚💙💜': 1987, 'bmw': 1988, 'sleeptime': 1989, 'two': 1990, \"sam's\": 1991, 'truth': 1992, '30': 1993, 'disco': 1994, 'prblms': 1995, 'hyphy': 1996, 'added': 1997, 'jammy': 1998, 'meditation': 1999, 'rythm': 2000, 'bollywood': 2001, 'mira': 2002, 'sample': 2003, 'mush': 2004, 'de': 2005, 'khalid': 2006, 'kd': 2007, 'mexico': 2008, 'lg': 2009, 'brittany': 2010, '🙏🏽': 2011, 'friends': 2012, 'ptv': 2013, 'hours': 2014, 'newww': 2015, 'green': 2016, 'freedom': 2017, 'frozen': 2018, 'ones': 2019, 'florida': 2020, '❤️❤️': 2021, 'ana': 2022, 'rancheras': 2023, 'snooze': 2024, 'ash': 2025, 'stoney': 2026, 'pretty': 2027, 'gn': 2028, 'more': 2029, 'sit': 2030, 'headphones': 2031, 'surrender': 2032, 'untitled': 2033, 'ag': 2034, 'has': 2035, \"90'\": 2036, 'lyft': 2037, 'marching': 2038, 'ramdom': 2039, 'xxxxx': 2040, 'billboard': 2041, 'xyz': 2042, 'vol': 2043, 'kuntry': 2044, 'reflection': 2045, 'pill': 2046, 'skate': 2047, 'funkadelic': 2048, 'start': 2049, 'sax': 2050, 'motown': 2051, 'alright': 2052, '🙌🏼': 2053, 'shine': 2054, 'dans': 2055, 'lekker': 2056, 'dub': 2057, 'variety': 2058, 'spinnin': 2059, 'records': 2060, 'brown': 2061, '☆☆☆': 2062, 'star': 2063, 'wars': 2064, 'aa': 2065, 'group': 2066, 'drinking': 2067, 'workout2': 2068, 'fh': 2069, 'laid': 2070, 'fuel': 2071, 'dab': 2072, 'ttt': 2073, '🤷🏽\\u200d♀️': 2074, 'digger': 2075, 'bbg': 2076, \"'n'\": 2077, 'zumba': 2078, 'vallenato': 2079, 'drugs': 2080, 'dem': 2081, 'strokes': 2082, 'simone': 2083, 'race': 2084, 'sharing': 2085, 'orleans': 2086, 'kairos': 2087, 'triphop': 2088, 'fav��': 2089, 'solomun': 2090, 'collab': 2091, 'ice': 2092, 'eighteen': 2093, 'asap': 2094, 'kelly': 2095, 'mo': 2096, 'ehh': 2097, 'ymca': 2098, 'tennessee': 2099, 'whiskey': 2100, '🤘🤘': 2101, 'york': 2102, 'jamss': 2103, '116': 2104, 'mother': 2105, 'julia': 2106, 'kc': 2107, 'boogie': 2108, 'outlaw': 2109, '💃🏽': 2110, 'southside': 2111, 'natewantstobattle': 2112, 'omg': 2113, 'fye': 2114, 'atmosphere': 2115, 'history': 2116, 'greatness': 2117, 'moulin': 2118, 'rouge': 2119, 'massage': 2120, 'aug': 2121, '14': 2122, '4': 2123, 'mu': 2124, 'saturday': 2125, 'hindi': 2126, 'latinas': 2127, 'jan17': 2128, 'softball': 2129, 'ken': 2130, 'ham': 2131, 'jamzzz': 2132, 'william': 2133, 'singe': 2134, 'owen': 2135, 'junk': 2136, 'poolside': 2137, '🌙🌙🌙': 2138, 'six': 2139, 'ayo': 2140, 'kendrick': 2141, 'empowerment': 2142, 'weight': 2143, 'room': 2144, 'fallout': 2145, 'culture': 2146, 'strawberry': 2147, 'yooo': 2148, 'uzi': 2149, 'idek': 2150, 'flying': 2151, 's': 2152, 'dazed': 2153, 'confused': 2154, 'rollin': 2155, 'thunderstruck': 2156, 'tings': 2157, 'para': 2158, 'bla': 2159, 'playtime': 2160, 'nov': 2161, 'country🇺🇸': 2162, 'grease': 2163, 'preparty': 2164, 'diggity': 2165, 'diego': 2166, 'dopamine': 2167, '03': 2168, 'swanky': 2169, 'daisy': 2170, 'naomi': 2171, 'noosa': 2172, 'tastiest': 2173, 'nwa': 2174, 'chido': 2175, 'paris': 2176, 'sierra': 2177, 'boop': 2178, 'oldiesss': 2179, 'beta': 2180, 'diaries': 2181, 'sv': 2182, 'hitz': 2183, 'say': 2184, 'danza': 2185, 'roadtrips': 2186, 'norteñas': 2187, 'cuz': 2188, '🎶🎶': 2189, 'nb': 2190, 'yosemite': 2191, 'shrooms': 2192, 'kenny': 2193, 'chesney': 2194, 'workshop': 2195, 'whatever': 2196, 'pizza': 2197, 'finally': 2198, 'check': 2199, '60': 2200, 'pink': 2201, 'martini': 2202, 'dishes': 2203, 'hans': 2204, 'zimmer': 2205, 'sweetness': 2206, 'battle': 2207, 'freddie': 2208, 'winter16': 2209, 'sparks': 2210, 'dallas': 2211, 'jamin': 2212, 'dirty': 2213, 'champion': 2214, 'minecraft': 2215, '☕️': 2216, 'obsessed': 2217, 'had': 2218, 'classroom': 2219, 'hawaii': 2220, 'fall17': 2221, 'hilary': 2222, 'duff': 2223, 'air': 2224, 'runnnn': 2225, 'dep': 2226, 'washed': 2227, 'girlz': 2228, 'mama': 2229}\n",
      "[142   6   8   0   0   0   0   0   0   0]\n",
      "1/1 [==============================] - 0s 15ms/step\n",
      "Track: Down In The Valley [5aVhFEvhPKibeOoCx7aNtG]\n",
      "Artists: The Head And The Heart\n",
      "Genres: folk-pop, seattle indie, stomp and holler\n",
      "\n",
      "Track: Heroes (we could be) [6WQLkih8nE0JdUCEyLaGnQ]\n",
      "Artists: Alesso, Tove Lo\n",
      "Genres: dance pop, edm, metropopolis, pop, pop dance, progressive electro house, swedish electropop, swedish pop, swedish synthpop\n",
      "\n",
      "Track: Wake Me Up - Radio Edit [6g1NlCpW7fgqDnWbCCDrHl]\n",
      "Artists: Avicii\n",
      "Genres: dance pop, edm, pop, pop dance\n",
      "\n",
      "Track: Walking On A Dream [3iVAyrTlbWGBq0laeQ18z2]\n",
      "Artists: Empire of the Sun\n",
      "Genres: australian dance, australian electropop, dance rock, indietronica, neo-synthpop\n",
      "\n",
      "Track: Clarity [60wwxj6Dd9NJlirf84wr2c]\n",
      "Artists: Zedd, Foxes\n",
      "Genres: complextro, edm, electropop, german techno, metropopolis, pop, pop dance, uk pop\n",
      "\n"
     ]
    }
   ],
   "source": [
    "def flatten(l):\n",
    "    return [item for sublist in l for item in sublist]\n",
    "\n",
    "def print_track(track_id):\n",
    "    #print(track)\n",
    "    track = sp.track(track_id)\n",
    "    print('Track: ' + track['name'] + ' [' + track['id'] + ']')\n",
    "    artists = sp.artists([artist['id'] for artist in track['artists']])['artists']\n",
    "    artist_names = [artist['name'] for artist in artists]\n",
    "    artist_genres = np.unique(flatten([artist['genres'] for artist in artists]))\n",
    "    print('Artists: ' + str.join(', ', artist_names))\n",
    "    print('Genres: ' + str.join(', ', artist_genres))\n",
    "\n",
    "# chill rap [6, 3, 0, 0, 0, 0, 0, 0, 0, 0]\n",
    "# summer party [10, 9, 0, 0, 0, 0, 0, 0, 0, 0]\n",
    "# classical [1476, 0, 0, 0, 0, 0, 0, 0, 0, 0]\n",
    "# country rock [1, 2, 0, 0, 0, 0, 0, 0, 0, 0]\n",
    "\n",
    "print(x_tokenizer.word_index)\n",
    "\n",
    "input = 'winter chill songs'\n",
    "\n",
    "input_words = input.split(' ')\n",
    "\n",
    "tokenized_words = []\n",
    "for word in input_words:\n",
    "    if word in x_tokenizer.word_index:\n",
    "        tokenized_words.append(x_tokenizer.word_index[word])\n",
    "    else:\n",
    "        print('Word: ' + word + ' not supported.')\n",
    "\n",
    "tokenized_words = np.array(tokenized_words)\n",
    "tokenized_words.resize(10)\n",
    "print(tokenized_words)\n",
    "\n",
    "prediction = model.predict(np.array([tokenized_words]))\n",
    "prediction_indices = np.argsort(prediction[0])[::-1][:5]\n",
    "\n",
    "for id in prediction_indices:\n",
    "    track_id = y_tokenizer.index_word[id]\n",
    "    print_track(track_id)\n",
    "    print('')"
   ]
  }
 ],
 "metadata": {
  "kernelspec": {
   "display_name": "Python 3",
   "language": "python",
   "name": "python3"
  },
  "language_info": {
   "codemirror_mode": {
    "name": "ipython",
    "version": 3
   },
   "file_extension": ".py",
   "mimetype": "text/x-python",
   "name": "python",
   "nbconvert_exporter": "python",
   "pygments_lexer": "ipython3",
   "version": "3.9.0"
  }
 },
 "nbformat": 4,
 "nbformat_minor": 2
}
